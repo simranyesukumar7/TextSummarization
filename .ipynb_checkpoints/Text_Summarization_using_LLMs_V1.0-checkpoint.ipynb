{
 "cells": [
  {
   "cell_type": "markdown",
   "id": "4e6bc1de",
   "metadata": {},
   "source": [
    "# Some necessary installations"
   ]
  },
  {
   "cell_type": "code",
   "execution_count": 1,
   "id": "27e0dd4e",
   "metadata": {},
   "outputs": [],
   "source": [
    "# !pip install --ignore-installed torch --user\n",
    "# !pip install torch\n",
    "# !pip3 install torch torchvision torchaudio --index-url https://download.pytorch.org/whl/cu118\n",
    "# !pip install bert-extractive-summarizer\n",
    "# !pip install transformers \n",
    "# !pip install bert-extractive-summarizer\n",
    "# !pip install tensorflow\n",
    "# !pip install numpy --upgrade --ignore-installed\n",
    "# !pip install numpy"
   ]
  },
  {
   "cell_type": "markdown",
   "id": "4065292f",
   "metadata": {},
   "source": [
    "# Importing all the libraries"
   ]
  },
  {
   "cell_type": "code",
   "execution_count": 2,
   "id": "161aa10e",
   "metadata": {},
   "outputs": [
    {
     "name": "stderr",
     "output_type": "stream",
     "text": [
      "C:\\Anaconda\\lib\\site-packages\\scipy\\__init__.py:146: UserWarning: A NumPy version >=1.16.5 and <1.23.0 is required for this version of SciPy (detected version 1.26.4\n",
      "  warnings.warn(f\"A NumPy version >={np_minversion} and <{np_maxversion}\"\n"
     ]
    }
   ],
   "source": [
    "import pandas as pd\n",
    "import matplotlib.pyplot as plt \n",
    "from matplotlib import rcParams\n",
    "import seaborn as sns\n",
    "\n",
    "%matplotlib inline"
   ]
  },
  {
   "cell_type": "code",
   "execution_count": 3,
   "id": "a092e0d3",
   "metadata": {},
   "outputs": [],
   "source": [
    "from transformers import pipeline"
   ]
  },
  {
   "cell_type": "code",
   "execution_count": null,
   "id": "23d00559",
   "metadata": {},
   "outputs": [],
   "source": [
    "from summarizer import Summarizer,TransformerSummarizer"
   ]
  },
  {
   "cell_type": "code",
   "execution_count": null,
   "id": "d9e8a2e2",
   "metadata": {},
   "outputs": [],
   "source": [
    "#Import the dataset\n",
    "review_dataset = pd.read_csv(\"employee_review_mturk_dataset_v10_kaggle.csv\")"
   ]
  },
  {
   "cell_type": "code",
   "execution_count": null,
   "id": "dec76f21",
   "metadata": {},
   "outputs": [],
   "source": [
    "#checking the columns\n",
    "review_dataset.columns"
   ]
  },
  {
   "cell_type": "code",
   "execution_count": null,
   "id": "0c9c6904",
   "metadata": {},
   "outputs": [],
   "source": [
    "#Review of the dataset\n",
    "review_dataset.head(2)"
   ]
  },
  {
   "cell_type": "code",
   "execution_count": null,
   "id": "5144184a",
   "metadata": {
    "scrolled": true
   },
   "outputs": [],
   "source": [
    "# review_dataset[['Performance Category','Potential Category']] = review_dataset['nine_box_category'].str.split(',', expand=True)"
   ]
  },
  {
   "cell_type": "code",
   "execution_count": null,
   "id": "1856d135",
   "metadata": {
    "scrolled": true
   },
   "outputs": [],
   "source": [
    "#Removing unnecessary characters from the Columns and separating nine_box_category into seperate performance/potential categories\n",
    "review_dataset['Overall Performance Category'] = review_dataset['nine_box_category'].str.replace(r\"(\\s*\\(.*?\\)\\s*)\", \" \").str.strip()\n",
    "review_dataset['Performance Category'] = review_dataset['nine_box_category'].str.extract('.*\\((.*)\\).*')\n",
    "review_dataset[['Performance Category','Potential Category']] = review_dataset['Performance Category'].str.split(',', expand=True)"
   ]
  },
  {
   "cell_type": "code",
   "execution_count": null,
   "id": "95a873e7",
   "metadata": {},
   "outputs": [],
   "source": [
    "#Dataset review after the changes\n",
    "review_dataset.head(2)"
   ]
  },
  {
   "cell_type": "code",
   "execution_count": null,
   "id": "889ec14c",
   "metadata": {},
   "outputs": [],
   "source": [
    "#Keeping only the necessary columns\n",
    "review_dataset = review_dataset[['id', 'person_name', 'feedback','Overall Performance Category', 'Performance Category',\n",
    "       'Potential Category']]"
   ]
  },
  {
   "cell_type": "code",
   "execution_count": null,
   "id": "c33b3a62",
   "metadata": {},
   "outputs": [],
   "source": [
    "#Checking for null values\n",
    "review_dataset.isna().sum()"
   ]
  },
  {
   "cell_type": "markdown",
   "id": "8f91a3a6",
   "metadata": {},
   "source": [
    "# BART Summarization"
   ]
  },
  {
   "cell_type": "code",
   "execution_count": null,
   "id": "0620af0b",
   "metadata": {
    "scrolled": true
   },
   "outputs": [],
   "source": [
    "#Load the model\n",
    "summarizer = pipeline(\"summarization\", model=\"facebook/bart-large-cnn\")"
   ]
  },
  {
   "cell_type": "code",
   "execution_count": null,
   "id": "dff607b5",
   "metadata": {},
   "outputs": [],
   "source": [
    "#Taking only a sample of 5 employee reviews for summarization\n",
    "review_dataset_new = review_dataset.head(5)"
   ]
  },
  {
   "cell_type": "code",
   "execution_count": null,
   "id": "30be6d91",
   "metadata": {},
   "outputs": [],
   "source": [
    "#summarize function\n",
    "def bart_summarize_text(text):\n",
    "    bart_summary = summarizer(text, max_length=50, min_length=25, do_sample=False)\n",
    "    return bart_summary[0]['summary_text']"
   ]
  },
  {
   "cell_type": "code",
   "execution_count": null,
   "id": "06461e51",
   "metadata": {},
   "outputs": [],
   "source": [
    "#Applying summarize function to the dataset\n",
    "review_dataset_new['summary'] = review_dataset_new['feedback'].apply(bart_summarize_text)"
   ]
  },
  {
   "cell_type": "code",
   "execution_count": null,
   "id": "fcfd156c",
   "metadata": {},
   "outputs": [],
   "source": [
    "review_dataset_new['summary'].unique()"
   ]
  },
  {
   "cell_type": "markdown",
   "id": "e24ab4b9",
   "metadata": {},
   "source": [
    "# BERT Summarization "
   ]
  },
  {
   "cell_type": "code",
   "execution_count": null,
   "id": "ae5ad89c",
   "metadata": {},
   "outputs": [],
   "source": [
    "# !pip install bert-extractive-summarizer"
   ]
  },
  {
   "cell_type": "code",
   "execution_count": null,
   "id": "34fc42cd",
   "metadata": {},
   "outputs": [],
   "source": [
    "#Loading the bert model summarizer \n",
    "bert_model = Summarizer()"
   ]
  },
  {
   "cell_type": "code",
   "execution_count": null,
   "id": "f60796fe",
   "metadata": {},
   "outputs": [],
   "source": [
    "#Generating the summaries and creating a separate dataframe with the ids and their summaries for the reviews\n",
    "summary_bert_feedback=[]\n",
    "for x in review_dataset_new.id.unique():\n",
    "    docs=review_dataset_new[review_dataset_new['id']==x]['feedback'].str.lower()\n",
    "    docs=''.join(docs)\n",
    "#     print(docs)\n",
    "    result= bert_model(docs,num_sentences=1,min_length=20)\n",
    "    summary_bert_feedback.append(result)\n",
    "\n",
    "summary_generate_bert_feedback=pd.DataFrame()\n",
    "for i in range(len(summary_bert_feedback)):\n",
    "    new=pd.Series({'Id':review_dataset_new.id.unique()[i],'Summary':summary_bert_feedback[i]})\n",
    "    summary_generate_bert_feedback=summary_generate_bert_feedback.append(new,ignore_index=True)"
   ]
  },
  {
   "cell_type": "code",
   "execution_count": null,
   "id": "95269074",
   "metadata": {},
   "outputs": [],
   "source": [
    "summary_generate_bert_feedback"
   ]
  },
  {
   "cell_type": "code",
   "execution_count": null,
   "id": "fcdffb40",
   "metadata": {},
   "outputs": [],
   "source": [
    "summary_generate_bert_feedback['Summary'].unique()"
   ]
  },
  {
   "cell_type": "code",
   "execution_count": null,
   "id": "3c816b1c",
   "metadata": {},
   "outputs": [],
   "source": []
  },
  {
   "cell_type": "markdown",
   "id": "52b90080",
   "metadata": {},
   "source": [
    "# BERT summarization - new performance reviews dataset"
   ]
  },
  {
   "cell_type": "code",
   "execution_count": null,
   "id": "6d72f918",
   "metadata": {},
   "outputs": [],
   "source": [
    "# Data for the performance reviews\n",
    "#These performance reviews are generated from chatgpt\n",
    "new_review_data = {\n",
    "    \"Employee Name\": [\"John Smith\", \"Emily Davis\", \"Michael Brown\", \"Sophia Johnson\", \"David Lee\"],\n",
    "    \"Performance Review\": [\n",
    "        \"\"\"1. Work Quality: John consistently delivers high-quality work with attention to detail. His projects often exceed expectations in terms of accuracy and creativity.\n",
    "2. Timeliness: He completes tasks within deadlines, even when faced with tight schedules. His time management skills are commendable.\n",
    "3. Team Collaboration: John is an excellent team player. He contributes effectively in team meetings and is always willing to help colleagues.\n",
    "4. Communication: His communication skills are strong, both in written and verbal forms. John is clear and concise in his reports and presentations.\n",
    "5. Initiative: He often takes the initiative to suggest improvements in workflows and processes. His proactive approach is a valuable asset to the team.\n",
    "6. Learning & Development: John actively seeks out opportunities for professional development and applies new skills to his work.\n",
    "7. Problem Solving: He demonstrates strong problem-solving abilities, often coming up with innovative solutions to complex issues.\n",
    "8. Punctuality: John is punctual and adheres to company policies regarding work hours and attendance.\n",
    "9. Areas for Improvement: He could benefit from delegating tasks more effectively to avoid burnout.\n",
    "10. Overall Performance: John is a highly reliable and efficient employee, contributing significantly to the team's success.\"\"\",\n",
    "        \"\"\"1. Work Quality: Emily produces excellent work with a high degree of accuracy. Her attention to detail ensures minimal errors in her deliverables.\n",
    "2. Timeliness: She meets deadlines consistently and often completes tasks ahead of schedule. Emily’s time management is exemplary.\n",
    "3. Team Collaboration: Emily is a collaborative team member who supports and respects her colleagues. She excels in team environments.\n",
    "4. Communication: Her communication skills are strong, but she could work on being more assertive in group discussions.\n",
    "5. Initiative: Emily shows a good level of initiative and often volunteers for additional responsibilities.\n",
    "6. Learning & Development: She has demonstrated a willingness to learn new skills and has attended several training sessions.\n",
    "7. Problem Solving: Emily approaches problems methodically and often finds effective solutions. Her analytical skills are an asset.\n",
    "8. Punctuality: Emily maintains a high standard of punctuality and is reliable in her attendance.\n",
    "9. Areas for Improvement: Developing more confidence in her decision-making could enhance her overall performance.\n",
    "10. Overall Performance: Emily is a valuable team member with a solid performance record and a positive attitude.\"\"\",\n",
    "        \"\"\"1. Work Quality: Michael’s work is consistently thorough and accurate, with a strong emphasis on quality.\n",
    "2. Timeliness: He has a track record of meeting deadlines, though occasionally he may require reminders to complete tasks.\n",
    "3. Team Collaboration: Michael is a cooperative team member and provides constructive feedback to his peers.\n",
    "4. Communication: He communicates effectively but could benefit from more frequent updates on project progress.\n",
    "5. Initiative: Michael shows initiative in identifying areas for improvement and is eager to take on new challenges.\n",
    "6. Learning & Development: He is proactive in pursuing additional training and improving his skill set.\n",
    "7. Problem Solving: Michael is adept at analyzing problems and finding practical solutions quickly.\n",
    "8. Punctuality: Generally punctual, though he has occasionally arrived late due to personal commitments.\n",
    "9. Areas for Improvement: More consistent communication regarding project updates would enhance team alignment.\n",
    "10. Overall Performance: Michael is a dedicated employee who consistently delivers quality work and supports his team effectively.\"\"\",\n",
    "        \"\"\"1. Work Quality: Sophia’s work is precise and meets all required standards. Her attention to detail is a significant strength.\n",
    "2. Timeliness: She consistently meets deadlines and manages her time effectively, even with a heavy workload.\n",
    "3. Team Collaboration: Sophia is highly collaborative and works well with diverse teams, contributing positively to group dynamics.\n",
    "4. Communication: Her communication is clear and effective, though she could work on providing more regular status updates.\n",
    "5. Initiative: Sophia takes initiative to streamline processes and improve efficiency in her role.\n",
    "6. Learning & Development: She shows a strong commitment to her professional growth by attending workshops and training sessions.\n",
    "7. Problem Solving: Sophia effectively tackles challenges and finds innovative solutions to complex problems.\n",
    "8. Punctuality: Always punctual and adheres to the company’s attendance policies without fail.\n",
    "9. Areas for Improvement: Providing more frequent feedback to her team members could enhance their development.\n",
    "10. Overall Performance: Sophia is a strong performer who consistently delivers high-quality work and contributes positively to the team.\"\"\",\n",
    "        \"\"\"1. Work Quality: David consistently delivers work of high quality, demonstrating excellent technical skills.\n",
    "2. Timeliness: He manages to meet tight deadlines but occasionally struggles with balancing multiple priorities.\n",
    "3. Team Collaboration: David is a supportive team member who collaborates effectively with colleagues across departments.\n",
    "4. Communication: His communication is generally good, but he could benefit from being more proactive in team discussions.\n",
    "5. Initiative: David shows initiative in suggesting new ideas and improving existing processes.\n",
    "6. Learning & Development: He actively seeks opportunities for learning and applies new knowledge effectively in his role.\n",
    "7. Problem Solving: David excels in identifying problems early and developing creative solutions.\n",
    "8. Punctuality: Maintains excellent punctuality and rarely takes unplanned leave.\n",
    "9. Areas for Improvement: Improving his multitasking abilities could help him manage competing priorities more effectively.\n",
    "10. Overall Performance: David is a dependable employee with strong technical skills and a proactive approach to his work.\"\"\"\n",
    "    ]\n",
    "}\n",
    "\n",
    "new_review_data = pd.DataFrame(new_review_data)"
   ]
  },
  {
   "cell_type": "code",
   "execution_count": null,
   "id": "dc07e919",
   "metadata": {},
   "outputs": [],
   "source": [
    "#Load the model\n",
    "summary_bert=[]\n",
    "for x in new_review_data['Employee Name'].unique():\n",
    "    docs=new_review_data[new_review_data['Employee Name']==x]['Performance Review'].str.lower()\n",
    "    docs=''.join(docs)\n",
    "    result= bert_model(docs,num_sentences=3,min_length=30)\n",
    "    summary_bert.append(result)\n",
    "\n",
    "#For each performance review in the dataset, generating summaries\n",
    "summary_generated_bert_performance_review=pd.DataFrame()\n",
    "for i in range(len(summary_bert)):\n",
    "    new=pd.Series({'Id':new_review_data['Employee Name'].unique()[i],'Performance Review':summary_bert[i]})\n",
    "    summary_generated_bert_performance_review=summary_generated_bert_performance_review.append(new,ignore_index=True)"
   ]
  },
  {
   "cell_type": "code",
   "execution_count": null,
   "id": "389dd552",
   "metadata": {},
   "outputs": [],
   "source": [
    "summary_generated_bert_performance_review['Performance Review'].unique()"
   ]
  },
  {
   "cell_type": "markdown",
   "id": "248714f3",
   "metadata": {},
   "source": [
    "# Using GPT-2 Model to summarize Performance Reviews"
   ]
  },
  {
   "cell_type": "code",
   "execution_count": null,
   "id": "080f222b",
   "metadata": {},
   "outputs": [],
   "source": [
    "GPT2_model = TransformerSummarizer(transformer_type=\"GPT2\",transformer_model_key=\"gpt2-medium\")"
   ]
  },
  {
   "cell_type": "code",
   "execution_count": null,
   "id": "9a9b0e16",
   "metadata": {
    "scrolled": true
   },
   "outputs": [],
   "source": [
    "summary_generate_gpt2=[]\n",
    "for x in new_review_data['Employee Name'].unique():\n",
    "    docs=new_review_data[new_review_data['Employee Name']==x]['Performance Review'].str.lower()\n",
    "    docs=''.join(docs)\n",
    "#     print(docs)\n",
    "    \n",
    "    result= GPT2_model(docs,num_sentences=3,min_length=30)\n",
    "    summary_generate_gpt2.append(result)\n",
    "\n",
    "summary_generated_gp2_performance_review=pd.DataFrame()\n",
    "for i in range(len(summary_generate_gpt2)):\n",
    "    new=pd.Series({'Id':new_review_data['Employee Name'].unique()[i],'Performance Review':summary_generate_gpt2[i]})\n",
    "    summary_generated_gp2_performance_review=summary_generated_gp2_performance_review.append(new,ignore_index=True)"
   ]
  },
  {
   "cell_type": "code",
   "execution_count": null,
   "id": "c625edf8",
   "metadata": {},
   "outputs": [],
   "source": [
    "summary_generated_gp2_performance_review['Performance Review'].unique()"
   ]
  },
  {
   "cell_type": "markdown",
   "id": "76796e7d",
   "metadata": {},
   "source": [
    "# Using GPT-2 Model to summarize employee's Self Check-in comments"
   ]
  },
  {
   "cell_type": "code",
   "execution_count": null,
   "id": "809fcbd7",
   "metadata": {},
   "outputs": [],
   "source": [
    "# Data for the self check-in comments\n",
    "#These check-in comments are generated from chatgpt\n",
    "\n",
    "data = {\n",
    "    \"Employee Name\": [\"John Smith\", \"Emily Davis\", \"Michael Brown\", \"Sophia Johnson\", \"David Lee\"],\n",
    "    \"Check-in Comments\": [\n",
    "        \"Over the past quarter, I feel I’ve made significant strides in delivering high-quality work and maintaining attention to detail. I’ve managed to meet deadlines consistently, even when the workload was heavy, which I attribute to better time management practices I’ve adopted. Participating in team meetings has been a great way for me to share my ideas and get valuable feedback, and I believe my contributions have been well-received. I’ve worked on improving my communication skills, ensuring that my updates and reports are clear and concise. Taking the initiative to suggest process improvements has been rewarding, and I’m proud of the positive changes implemented as a result. I’ve also focused on my professional development by attending several training sessions, which have equipped me with new skills I’ve already started applying. Problem-solving remains a strong suit of mine, and I’ve enjoyed tackling some of the more complex challenges we’ve faced. My punctuality has been excellent, and I’ve been able to maintain a good work-life balance without affecting my attendance. One area I recognize I need to improve on is delegating tasks more effectively to avoid overburdening myself. I’ve taken steps to mentor junior team members, and I’m seeing positive results from this. Volunteering for challenging tasks has helped me grow and learn, and I’m keen to continue this approach. I’ve maintained a positive attitude even during high-pressure situations and have found that being adaptable to change has greatly benefited my work. I’m pleased with the progress I’ve made in aligning with both technical and strategic goals. Streamlining our reporting processes was a significant achievement, saving time and increasing efficiency. Seeking feedback has been crucial, and I’ve made a concerted effort to incorporate it into my daily work. I believe my work ethic and motivation have had a positive influence on the team. Overall, I’m proud of my contributions and look forward to continuing to excel and support the team.\",\n",
    "        \"Reflecting on the past quarter, I feel that I’ve achieved a lot in terms of project quality and meeting expectations. My attention to detail has ensured that my work is accurate and often exceeds what is required. I’ve been successful in managing my time, consistently meeting deadlines without compromising the quality of my deliverables. Working collaboratively with my colleagues has been a highlight, and I believe my supportive nature has helped our team work more effectively together. Communication has been a key focus for me, and I’ve worked on being clearer and more assertive in discussions and updates. I’ve shown initiative by volunteering for additional responsibilities and proposing ideas to improve our workflows. I’ve actively pursued professional development opportunities, including several training sessions that have enhanced my skills. My approach to problem-solving has been methodical, allowing me to find effective solutions to challenges we’ve encountered. I’ve maintained high standards of punctuality and reliability, which I think has positively impacted the team’s productivity. Confidence in decision-making is an area I’m working on, and I’ve been seeking more feedback to help build this. I’m proud of the way I’ve handled multiple tasks and my ability to stay organized under pressure. I’ve volunteered for several projects that have pushed me out of my comfort zone, which has been a valuable learning experience. Adapting to new processes and requirements has been a challenge I’ve met with a positive attitude. I believe my understanding of both technical and team dynamics has improved significantly. My recent suggestion to optimize our document management system has been well-received and implemented. I’m committed to seeking continuous feedback and using it to improve my performance. Overall, I feel that my dedication and effort have contributed positively to our team’s success, and I’m eager to keep growing and supporting my colleagues.\",\n",
    "        \"Looking back on this quarter, I’m pleased with my performance in terms of the quality and accuracy of my work. I’ve been able to meet deadlines reliably, although balancing multiple projects has sometimes required me to be more mindful of my time management. I’ve made a conscious effort to contribute constructively during team meetings and to provide helpful feedback to my peers. My communication has been generally effective, but I recognize the need to keep the team more regularly updated on my progress. I’ve taken the initiative to identify areas where we can improve and have proposed several changes that have been positively received. I’ve engaged in additional training to enhance my skills, which has been beneficial for my role. Problem-solving continues to be a strong area for me, and I’ve enjoyed finding solutions to some of the more complex issues we’ve faced. Punctuality has been good overall, though I’ve had to manage some personal commitments that affected my schedule slightly. Improving the consistency of my communication, particularly regarding project updates, is a priority for me. I’m proud of my contributions to team projects and the way I’ve supported my colleagues. Volunteering for tasks outside my usual responsibilities has been a great way to learn and grow. I’ve maintained a positive attitude, even when faced with changing project demands. I’ve gained a better understanding of both the technical aspects of my work and the broader strategic goals of the team. My suggestion to enhance our feedback loop has been implemented and has improved our workflow. Seeking feedback and using it to refine my approach has been a key focus for me. I believe my work ethic and dedication have positively influenced the team. Overall, I’m proud of the progress I’ve made and look forward to continuing to contribute to our team’s success.\",\n",
    "        \"Over the past quarter, I’ve been dedicated to delivering precise and high-quality work, and I feel I’ve met the required standards consistently. Time management has been a strength, allowing me to handle a heavy workload while still meeting deadlines. Collaboration with diverse teams has been rewarding, and I believe I’ve positively contributed to group dynamics. I’ve focused on clear and effective communication, though I’ve identified the need to provide more regular status updates to improve coordination. Taking the initiative to streamline processes has been a priority, and I’ve seen positive results from the changes implemented. I’ve attended several workshops and training sessions to support my professional growth, which I’ve found highly beneficial. Problem-solving has been an area where I’ve excelled, often finding innovative solutions to complex challenges. My punctuality has been excellent, and I’ve adhered to company policies regarding attendance without fail. Providing more frequent feedback to team members is something I’m working on to enhance my leadership capabilities. I’m proud of my ability to handle various responsibilities and adapt to new processes. Volunteering for new and challenging tasks has helped me learn and expand my skills. I’ve maintained a positive attitude and resilience in the face of changing project requirements. I’ve improved my understanding of both technical and strategic elements of my role. My suggestion to improve our task tracking system has been successfully implemented, saving the team time. Seeking feedback from colleagues and incorporating it into my work has been a valuable practice. I believe my work ethic and willingness to support others have had a positive impact. Overall, I’m satisfied with my contributions and look forward to continuing to develop my skills and support the team.\",\n",
    "        \"Reflecting on this quarter, I’m proud of the high-quality work I’ve delivered and the technical skills I’ve demonstrated. Managing tight deadlines has been challenging but I’ve been able to meet them reliably. Balancing multiple priorities has been an area of focus for me, and I’ve developed strategies to manage my time more effectively. I’ve worked collaboratively with colleagues across departments, which has enhanced my understanding of different aspects of our work. My communication has been generally effective, though I plan to be more proactive in team discussions moving forward. I’ve taken the initiative to suggest improvements to existing processes and have seen positive feedback on these ideas. Engaging in learning opportunities and applying new knowledge has been beneficial for my role. Problem-solving is a strong suit of mine, and I’ve enjoyed developing creative solutions to issues we’ve encountered. My punctuality has been excellent, and I’ve maintained a reliable attendance record. Improving my multitasking abilities is an area I’m focusing on to manage competing priorities better. Volunteering for challenging projects has been a great learning experience and has helped me grow. I’ve maintained a positive attitude and adaptability, even when faced with changing project requirements. My understanding of both technical and strategic goals has deepened over the past quarter. My suggestion to optimize our resource allocation process has been implemented and has improved efficiency. Seeking and acting on feedback has been a priority for me, and I’ve seen positive results. I believe my dedication and proactive approach have contributed positively to the team. Overall, I’m pleased with my progress and am committed to continuing to support our team and enhance my skills.\"\n",
    "    ]\n",
    "}\n",
    "\n",
    "# Create DataFrame\n",
    "new_reviews_comments_2 = pd.DataFrame(data)"
   ]
  },
  {
   "cell_type": "code",
   "execution_count": null,
   "id": "dd03a19a",
   "metadata": {
    "scrolled": true
   },
   "outputs": [],
   "source": [
    "summary_gpt2_checkins=[]\n",
    "for x in new_reviews_comments_2['Employee Name'].unique():\n",
    "    docs=new_reviews_comments_2[new_reviews_comments_2['Employee Name']==x]['Check-in Comments'].str.lower()\n",
    "    docs=''.join(docs)\n",
    "    result= GPT2_model(docs,num_sentences=3,min_length=30)\n",
    "    summary_gpt2_checkins.append(result)\n",
    "\n",
    "summary_generated_gp2_checkins=pd.DataFrame()\n",
    "for i in range(len(summary_gpt2_checkins)):\n",
    "    new=pd.Series({'Id':new_reviews_comments_2['Employee Name'].unique()[i],'Check-in Comments':summary_gpt2_checkins[i]})\n",
    "    summary_generated_gp2_checkins=summary_generated_gp2_checkins.append(new,ignore_index=True)"
   ]
  },
  {
   "cell_type": "code",
   "execution_count": null,
   "id": "b805cb4d",
   "metadata": {},
   "outputs": [],
   "source": [
    "summary_generated_gp2_checkins['Check-in Comments'].unique()"
   ]
  },
  {
   "cell_type": "code",
   "execution_count": null,
   "id": "203bf898",
   "metadata": {},
   "outputs": [],
   "source": []
  }
 ],
 "metadata": {
  "kernelspec": {
   "display_name": "Python 3 (ipykernel)",
   "language": "python",
   "name": "python3"
  },
  "language_info": {
   "codemirror_mode": {
    "name": "ipython",
    "version": 3
   },
   "file_extension": ".py",
   "mimetype": "text/x-python",
   "name": "python",
   "nbconvert_exporter": "python",
   "pygments_lexer": "ipython3",
   "version": "3.9.12"
  }
 },
 "nbformat": 4,
 "nbformat_minor": 5
}
